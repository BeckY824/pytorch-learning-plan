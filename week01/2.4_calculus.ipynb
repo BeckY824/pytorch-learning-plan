{
 "cells": [
  {
   "cell_type": "markdown",
   "id": "42941dec",
   "metadata": {},
   "source": [
    "在深度学习中，我们训练模型，不断更新它们，使它们在看到越来越多的数据时变得更好。通常情况下，变得更好意味着最小化一个损失函数。"
   ]
  },
  {
   "cell_type": "markdown",
   "id": "70230419",
   "metadata": {},
   "source": [
    "优化与泛化。"
   ]
  },
  {
   "cell_type": "markdown",
   "id": "7a5d7b85",
   "metadata": {},
   "source": [
    "偏导数、梯度 & 链式法则"
   ]
  },
  {
   "cell_type": "markdown",
   "id": "ea081a1a",
   "metadata": {},
   "source": []
  }
 ],
 "metadata": {
  "language_info": {
   "name": "python"
  }
 },
 "nbformat": 4,
 "nbformat_minor": 5
}
