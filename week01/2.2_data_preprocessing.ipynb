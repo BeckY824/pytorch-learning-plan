{
 "cells": [
  {
   "cell_type": "markdown",
   "id": "29d68c62",
   "metadata": {},
   "source": [
    "在Python中，我们通常使用pandas软件包。pandas可以与张量兼容。将原始数据转换为张量格式的步骤。"
   ]
  },
  {
   "cell_type": "markdown",
   "id": "d5ac37cd",
   "metadata": {},
   "source": [
    "## 读取数据集"
   ]
  },
  {
   "cell_type": "markdown",
   "id": "76a9428a",
   "metadata": {},
   "source": [
    "首先创建以一个人工数据集，并存储在CSV文件中。其他格式存储的数据也可以通过类似的方式进行处理。"
   ]
  },
  {
   "cell_type": "code",
   "execution_count": 1,
   "id": "77652cdc",
   "metadata": {},
   "outputs": [],
   "source": [
    "import os\n",
    "\n",
    "os.makedirs(os.path.join('..','data'), exist_ok=True)\n",
    "data_file = os.path.join('..','data','house_tiny.csv')\n",
    "with open(data_file, 'w') as f:\n",
    "    f.write('NumRooms,Alley,Price\\n') #列名\n",
    "    f.write('NA,Pave,127500\\n') #每行表示一个数据样本\n",
    "    f.write('2,NA,106000\\n')\n",
    "    f.write('4,NA,178100\\n')\n",
    "    f.write('NA,NA,140000\\n')"
   ]
  },
  {
   "cell_type": "markdown",
   "id": "dc0cca09",
   "metadata": {},
   "source": [
    "从创建的CSV文件中加载原始数据集，我们倒入pandas包并调用read_csv。"
   ]
  },
  {
   "cell_type": "code",
   "execution_count": 3,
   "id": "8953d549",
   "metadata": {},
   "outputs": [
    {
     "name": "stdout",
     "output_type": "stream",
     "text": [
      "   NumRooms Alley   Price\n",
      "0       NaN  Pave  127500\n",
      "1       2.0   NaN  106000\n",
      "2       4.0   NaN  178100\n",
      "3       NaN   NaN  140000\n"
     ]
    }
   ],
   "source": [
    "import pandas as pd\n",
    "\n",
    "data = pd.read_csv(data_file)\n",
    "print(data)"
   ]
  },
  {
   "cell_type": "markdown",
   "id": "44aba8a6",
   "metadata": {},
   "source": [
    "## 处理缺失值"
   ]
  },
  {
   "cell_type": "markdown",
   "id": "2cdb1765",
   "metadata": {},
   "source": [
    "插值法和删除法"
   ]
  },
  {
   "cell_type": "code",
   "execution_count": 10,
   "id": "5e187d83",
   "metadata": {},
   "outputs": [
    {
     "name": "stdout",
     "output_type": "stream",
     "text": [
      "   NumRooms  Alley_Pave  Alley_nan\n",
      "0         3           1          0\n",
      "1         2           0          1\n",
      "2         4           0          1\n",
      "3         3           0          1\n"
     ]
    }
   ],
   "source": [
    "# 拆分输入输出\n",
    "inputs, outputs = data.iloc[:, 0:2], data.iloc[:, 2]\n",
    "\n",
    "# 处理数值缺失\n",
    "numeric_cols = inputs.select_dtypes(include='number').columns\n",
    "inputs[numeric_cols] = inputs[numeric_cols].fillna(inputs[numeric_cols].mean())\n",
    "\n",
    "# 类别值转换为 one-hot，包含 NaN 处理\n",
    "inputs = pd.get_dummies(inputs, dummy_na=True).astype(int)\n",
    "\n",
    "print(inputs)"
   ]
  },
  {
   "cell_type": "markdown",
   "id": "517aef5a",
   "metadata": {},
   "source": [
    "## 转换为张量格式"
   ]
  },
  {
   "cell_type": "markdown",
   "id": "b7b02f7b",
   "metadata": {},
   "source": [
    "inputs和outputs都是数值类型。他们可以转换为张量格式。"
   ]
  },
  {
   "cell_type": "code",
   "execution_count": 11,
   "id": "17bf41cd",
   "metadata": {},
   "outputs": [
    {
     "data": {
      "text/plain": [
       "(tensor([[3., 1., 0.],\n",
       "         [2., 0., 1.],\n",
       "         [4., 0., 1.],\n",
       "         [3., 0., 1.]], dtype=torch.float64),\n",
       " tensor([127500., 106000., 178100., 140000.], dtype=torch.float64))"
      ]
     },
     "execution_count": 11,
     "metadata": {},
     "output_type": "execute_result"
    }
   ],
   "source": [
    "import torch\n",
    "\n",
    "X = torch.tensor(inputs.to_numpy(dtype=float))\n",
    "y = torch.tensor(outputs.to_numpy(dtype=float))\n",
    "\n",
    "X,y"
   ]
  },
  {
   "cell_type": "code",
   "execution_count": null,
   "id": "37e697f9",
   "metadata": {},
   "outputs": [],
   "source": []
  }
 ],
 "metadata": {
  "kernelspec": {
   "display_name": "image",
   "language": "python",
   "name": "python3"
  },
  "language_info": {
   "codemirror_mode": {
    "name": "ipython",
    "version": 3
   },
   "file_extension": ".py",
   "mimetype": "text/x-python",
   "name": "python",
   "nbconvert_exporter": "python",
   "pygments_lexer": "ipython3",
   "version": "3.11.11"
  }
 },
 "nbformat": 4,
 "nbformat_minor": 5
}
