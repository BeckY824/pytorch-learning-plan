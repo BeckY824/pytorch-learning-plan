{
 "cells": [
  {
   "cell_type": "markdown",
   "id": "a011e9bb",
   "metadata": {},
   "source": [
    "## 基本概率论"
   ]
  },
  {
   "cell_type": "markdown",
   "id": "dfa56479",
   "metadata": {},
   "source": [
    "现实生活中，对比我们从工厂收到的真实骰子，我们需要检查它是否有瑕疵。唯一的方法就是多次投掷并记录结果。大树定理告诉我们：随着投掷次数的增加，这个估值会越来越接近真实的潜在概率。"
   ]
  },
  {
   "cell_type": "markdown",
   "id": "4f52bb7e",
   "metadata": {},
   "source": [
    "## 概率论公理"
   ]
  },
  {
   "cell_type": "markdown",
   "id": "f690f27f",
   "metadata": {},
   "source": [
    "样本空间/结果空间"
   ]
  },
  {
   "cell_type": "markdown",
   "id": "be7b9d14",
   "metadata": {},
   "source": [
    "随机变量"
   ]
  },
  {
   "cell_type": "markdown",
   "id": "36b26dad",
   "metadata": {},
   "source": [
    "处理多个随机变量时，会有若干个变量是我们感兴趣的"
   ]
  },
  {
   "cell_type": "markdown",
   "id": "66b4dac3",
   "metadata": {},
   "source": [
    "联合概率"
   ]
  },
  {
   "cell_type": "markdown",
   "id": "93713b75",
   "metadata": {},
   "source": [
    "条件概率"
   ]
  },
  {
   "cell_type": "markdown",
   "id": "7f176642",
   "metadata": {},
   "source": [
    "贝叶斯定理"
   ]
  },
  {
   "cell_type": "markdown",
   "id": "0cf5ced1",
   "metadata": {},
   "source": [
    "边际化"
   ]
  },
  {
   "cell_type": "markdown",
   "id": "25c934e8",
   "metadata": {},
   "source": [
    "独立性"
   ]
  },
  {
   "cell_type": "markdown",
   "id": "5a93fbcc",
   "metadata": {},
   "source": [
    "期望和方差"
   ]
  },
  {
   "cell_type": "markdown",
   "id": "27aeb61e",
   "metadata": {},
   "source": []
  }
 ],
 "metadata": {
  "kernelspec": {
   "display_name": "image",
   "language": "python",
   "name": "python3"
  },
  "language_info": {
   "codemirror_mode": {
    "name": "ipython",
    "version": 3
   },
   "file_extension": ".py",
   "mimetype": "text/x-python",
   "name": "python",
   "nbconvert_exporter": "python",
   "pygments_lexer": "ipython3",
   "version": "3.11.11"
  }
 },
 "nbformat": 4,
 "nbformat_minor": 5
}
