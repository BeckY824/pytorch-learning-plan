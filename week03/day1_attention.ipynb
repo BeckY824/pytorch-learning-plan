{
 "cells": [
  {
   "cell_type": "code",
   "execution_count": 1,
   "id": "bf69b7f6",
   "metadata": {},
   "outputs": [],
   "source": [
    "\"\"\"注意力计算函数\"\"\"\n",
    "def attention(query, key, value, dropout=None):\n",
    "    \"\"\"\n",
    "    args:\n",
    "    query : 查询值矩阵\n",
    "    key : 键值矩阵\n",
    "    value : 真值矩阵\n",
    "    \"\"\"\n",
    "\n",
    "    # 获取键向量的维度，键向量的维度和值向量维度相同\n",
    "    d_k = query.size(-1)\n",
    "    # 计算Q和K的内积并除以根号dk\n",
    "    # transpose -- 相当于转置\n",
    "    scores = torch.matmul(query, key.transpose(-2,-1)) / math.sqrt(d_k)\n",
    "    #softmax\n",
    "    p_attn = scores.softmax(dim=-1)\n",
    "    if dropout is not None:\n",
    "        p_attn = dropout(p_attn)\n",
    "        #采样\n",
    "    #根据计算结果对value进行加权求和\n",
    "    return torch.matmul(p_attn, value), p_attn"
   ]
  },
  {
   "cell_type": "code",
   "execution_count": null,
   "id": "7f461dd7",
   "metadata": {},
   "outputs": [],
   "source": []
  }
 ],
 "metadata": {
  "kernelspec": {
   "display_name": "base",
   "language": "python",
   "name": "python3"
  },
  "language_info": {
   "codemirror_mode": {
    "name": "ipython",
    "version": 3
   },
   "file_extension": ".py",
   "mimetype": "text/x-python",
   "name": "python",
   "nbconvert_exporter": "python",
   "pygments_lexer": "ipython3",
   "version": "3.11.9"
  }
 },
 "nbformat": 4,
 "nbformat_minor": 5
}
