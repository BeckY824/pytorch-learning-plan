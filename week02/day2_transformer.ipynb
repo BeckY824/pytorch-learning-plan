{
 "cells": [
  {
   "cell_type": "markdown",
   "id": "7b592b39",
   "metadata": {},
   "source": [
    "## Transformer"
   ]
  },
  {
   "cell_type": "markdown",
   "id": "10a1ae1f",
   "metadata": {},
   "source": [
    "自注意力同时具有并行计算和最短的最大路径长度这两个优势。"
   ]
  },
  {
   "cell_type": "markdown",
   "id": "eaf55843",
   "metadata": {},
   "source": [
    "所有的输入位置（tokens）是同时处理的。以Transformer为例：\n",
    " - [x1, x2, ... , xn], 我们一次性就计算出所有位置之间的注意力分数（注意力矩阵是一个NxN的矩阵）\n",
    " - 这一位在一次前向传播中，每个位置都能同时看到其他位置的信息，而不是一个接一个"
   ]
  },
  {
   "cell_type": "markdown",
   "id": "a6bcbe57",
   "metadata": {},
   "source": [
    "优势：\n",
    "- 充分利用GPU的并行处理能力，加快训练速度。\n",
    "- 相比RNN，一个时刻一个时刻处理的方式，自注意力的效率更高。"
   ]
  },
  {
   "cell_type": "markdown",
   "id": "2c0288a9",
   "metadata": {},
   "source": [
    "信息从一个位置传播到另一个位置所需的路径长度的度量。\n",
    "- 在RNN中，如果第一个词想影响最后一个词，中间要经过n步传递。\n",
    "- 在CNN中，虽然可以并行，但要堆积多层卷积核才能覆盖整个输入。\n",
    "- 在自注意力中，任何两个位置之间的信息交流都只需要一层，因为每个位置都能直接访问其他所有位置的表示。"
   ]
  },
  {
   "cell_type": "markdown",
   "id": "60606075",
   "metadata": {},
   "source": [
    "优势：\n",
    "- 使得长距离依赖问题更容易建模。\n",
    "- 信息在序列传播的时间是最短的。"
   ]
  },
  {
   "cell_type": "markdown",
   "id": "5246b62b",
   "metadata": {},
   "source": [
    "### Transformer劣势"
   ]
  },
  {
   "cell_type": "markdown",
   "id": "c2bc61c7",
   "metadata": {},
   "source": [
    "1. 计算复杂度高，对于长序列（1000字以上），计算和显存开销剧增，难以训练。\n",
    "2. 缺乏归纳偏置（Inductive bias）\n",
    "    - 自注意力结构式全连接的，对位置不敏感的。对于某些任务（图像识别，语音识别），这种设计会让模型更依赖大量数据学习这些结构信息。\n",
    "3. 训练和推理成本高\n",
    "4. 对长序列建模能力虽强但不稳"
   ]
  },
  {
   "cell_type": "markdown",
   "id": "0365796b",
   "metadata": {},
   "source": [
    "### 模型"
   ]
  },
  {
   "cell_type": "markdown",
   "id": "601e2508",
   "metadata": {},
   "source": [
    "编码器和解码器架构"
   ]
  },
  {
   "cell_type": "markdown",
   "id": "ace4dadc",
   "metadata": {},
   "source": [
    "Transformer的编码器和解码器是基于自注意力的模块叠加而成的，源（输入）序列和目标（输出）序列的embedding表示加上位置编码，再分别输入到编码器和解码器中。"
   ]
  },
  {
   "cell_type": "markdown",
   "id": "d9fcd676",
   "metadata": {},
   "source": [
    "Transformer的编码器是由多个相同的层叠加而成的，每个层都有两个子层。第一个子层是多头自注意力汇聚；第二个子层是基于位置的前馈网络。受残差网络的影响，每个子层都采用了残差连接。在残差连接的计算之后，紧接着应用层规范化。因此，输入序列对应的每个位置，Transformer编码器豆浆输出一个d维表示向量。\n"
   ]
  },
  {
   "cell_type": "markdown",
   "id": "c4ab821c",
   "metadata": {},
   "source": [
    "解码器在这两个子层之间插入了第三个子层，称为编码器-解码器注意力。在编码器-解码器注意力中，查询来自前一个解码器层的输出，而键和值来自整个编码器的输出。在解码器自注意力中，查询、键和值都来自上一个解码器层的输出。但是解码器中每个位置只能考虑该位置之前的所有位置。这种掩蔽（masked）注意力保留了自回归属性。确保预测仅依赖于已生成的输出词元。"
   ]
  },
  {
   "cell_type": "code",
   "execution_count": 2,
   "id": "fb979b90",
   "metadata": {},
   "outputs": [],
   "source": [
    "import math\n",
    "import pandas as pd\n",
    "import torch\n",
    "from torch import nn\n",
    "from d2l import torch as d2l"
   ]
  },
  {
   "cell_type": "code",
   "execution_count": 3,
   "id": "f3be7dd2",
   "metadata": {},
   "outputs": [],
   "source": [
    "class PositionWiseFFN(nn.Module):\n",
    "    \"\"\"基于位置的前馈网络\"\"\"\n",
    "    def __init__(self, ffn_num_input, ffn_num_hiddens, ffn_num_outputs,\n",
    "                 **kwargs):\n",
    "        super(PositionWiseFFN, self).__init__(**kwargs)\n",
    "        self.dense1 = nn.Linear(ffn_num_input, ffn_num_hiddens)\n",
    "        self.relu = nn.ReLU()\n",
    "        self.dense2 = nn.Linear(ffn_num_hiddens, ffn_num_outputs)\n",
    "\n",
    "    def forward(self, X):\n",
    "        return self.dense2(self.relu(self.dense1(X)))"
   ]
  },
  {
   "cell_type": "markdown",
   "id": "7f95353b",
   "metadata": {},
   "source": [
    "层规范化和批量规范化的目标相同，但层规范化是基于特征维度进行规范化。自然语言处理中，输出通常是变长序列，批量规范化通常不如层规范化的效果好。"
   ]
  },
  {
   "cell_type": "code",
   "execution_count": null,
   "id": "4cefa9d4",
   "metadata": {},
   "outputs": [],
   "source": [
    "#@save\n",
    "class AddNorm(nn.Module):\n",
    "    \"\"\"残差连接后进行层规范化\"\"\"\n",
    "    def __init__(self, normalized_shape, dropout, **kwargs):\n",
    "        super(AddNorm, self).__init__(**kwargs)\n",
    "        self.dropout = nn.Dropout(dropout)\n",
    "        self.ln = nn.LayerNorm(normalized_shape)\n",
    "\n",
    "    def forward(self, X, Y):\n",
    "        return self.ln(self.dropout(Y) + X)"
   ]
  }
 ],
 "metadata": {
  "kernelspec": {
   "display_name": "base",
   "language": "python",
   "name": "python3"
  },
  "language_info": {
   "codemirror_mode": {
    "name": "ipython",
    "version": 3
   },
   "file_extension": ".py",
   "mimetype": "text/x-python",
   "name": "python",
   "nbconvert_exporter": "python",
   "pygments_lexer": "ipython3",
   "version": "3.11.9"
  }
 },
 "nbformat": 4,
 "nbformat_minor": 5
}
