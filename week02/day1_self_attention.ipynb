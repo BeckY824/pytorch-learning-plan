{
 "cells": [
  {
   "cell_type": "markdown",
   "id": "df5ed7c1",
   "metadata": {},
   "source": [
    "要想将选择偏向于感官输入，可以简单的使用参数化的全连接层\n",
    "- 可以用一个可学习的线性变换来选择性的关注感官输入中的某些维度\n",
    "- 例如你有10个感官输入的向量，你可以学一个W来控制最终输出更偏向“视觉”or“听觉”"
   ]
  },
  {
   "cell_type": "code",
   "execution_count": 1,
   "id": "dcc19b3c",
   "metadata": {},
   "outputs": [
    {
     "data": {
      "text/plain": [
       "50"
      ]
     },
     "execution_count": 1,
     "metadata": {},
     "output_type": "execute_result"
    }
   ],
   "source": [
    "import torch\n",
    "from torch import nn\n",
    "\n",
    "n_train = 50\n",
    "x_train, _ = torch.sort(torch.rand(n_train) * 5)\n",
    "\n",
    "def f(x):\n",
    "    return 2 * torch.sin(x) + x ** 0.8\n",
    "\n",
    "y_train = f(x_train) + torch.normal(0.0, 0.5, (n_train,))\n",
    "x_test = torch.arange(0,5,0.1) #测试样本\n",
    "y_truth = f(x_test)\n",
    "n_test = len(x_test)\n",
    "n_test"
   ]
  },
  {
   "cell_type": "markdown",
   "id": "a85e23fe",
   "metadata": {},
   "source": [
    "## 定义模型"
   ]
  },
  {
   "cell_type": "code",
   "execution_count": 2,
   "id": "ce2d72da",
   "metadata": {},
   "outputs": [],
   "source": [
    "class NWKernelRegression(nn.Module):\n",
    "    def __init__(self, **kwargs):\n",
    "        super().__init__(**kwargs)\n",
    "        self.w = nn.Parameter(torch.randn((1,), requires_grad=True))\n",
    "\n",
    "    def forward(self, queries, keys, values):\n",
    "        # queries和attention_weights形状为查询个数\n",
    "        queries = queries.repeat_interleave(keys.shape[1]).reshape((-1, keys.shape[1]))\n",
    "        self.attention_weights = nn.functional.softmax(\n",
    "            -((queries - keys) * self.w)**2 / 2, dim=1)\n",
    "        # values的形状为(查询个数，“键－值”对个数)\n",
    "        return torch.bmm(self.attention_weights.unsqueeze(1),\n",
    "                         values.unsqueeze(-1)).reshape(-1)\n",
    "                              "
   ]
  },
  {
   "cell_type": "code",
   "execution_count": 4,
   "id": "b6db0561",
   "metadata": {},
   "outputs": [],
   "source": [
    "import math\n",
    "import torch\n",
    "from torch import nn\n",
    "from d2l import torch as d2l"
   ]
  },
  {
   "cell_type": "code",
   "execution_count": null,
   "id": "610c5832",
   "metadata": {},
   "outputs": [],
   "source": []
  }
 ],
 "metadata": {
  "kernelspec": {
   "display_name": "base",
   "language": "python",
   "name": "python3"
  },
  "language_info": {
   "codemirror_mode": {
    "name": "ipython",
    "version": 3
   },
   "file_extension": ".py",
   "mimetype": "text/x-python",
   "name": "python",
   "nbconvert_exporter": "python",
   "pygments_lexer": "ipython3",
   "version": "3.11.9"
  }
 },
 "nbformat": 4,
 "nbformat_minor": 5
}
