{
 "cells": [
  {
   "cell_type": "code",
   "execution_count": null,
   "id": "0d77b323",
   "metadata": {},
   "outputs": [
    {
     "name": "stderr",
     "output_type": "stream",
     "text": [
      "/opt/anaconda3/lib/python3.11/site-packages/huggingface_hub/file_download.py:943: FutureWarning: `resume_download` is deprecated and will be removed in version 1.0.0. Downloads always resume when possible. If you want to force a new download, use `force_download=True`.\n",
      "  warnings.warn(\n",
      "Fetching 9 files:   0%|          | 0/9 [00:00<?, ?it/s]Downloading 'model.safetensors' to '/Users/edward_beck8n24/pytorch-learning-plan-1/week05/.cache/huggingface/download/xGOKKLRSlIhH692hSVvI1-gpoa8=.f47f71177f32bcd101b7573ec9171e6a57f4f4d31148d38e382306f42996874b.incomplete'\n",
      "Downloading 'tokenizer.json' to '/Users/edward_beck8n24/pytorch-learning-plan-1/week05/.cache/huggingface/download/HgM_lKo9sdSCfRtVg7MMFS7EKqo=.aeb13307a71acd8fe81861d94ad54ab689df773318809eed3cbe794b4492dae4.incomplete'\n",
      "Downloading 'merges.txt' to '/Users/edward_beck8n24/pytorch-learning-plan-1/week05/.cache/huggingface/download/PtHk0z_I45atnj23IIRhTExwT3w=.31349551d90c7606f325fe0f11bbb8bd5fa0d7c7.incomplete'\n",
      "Downloading '.gitattributes' to '/Users/edward_beck8n24/pytorch-learning-plan-1/week05/.cache/huggingface/download/wPaCkH-WbT7GsmxMKKrNZTV4nSM=.52373fe24473b1aa44333d318f578ae6bf04b49b.incomplete'\n",
      "Downloading 'config.json' to '/Users/edward_beck8n24/pytorch-learning-plan-1/week05/.cache/huggingface/download/8_PA_wEVGiVa2goH2H4KQOQpvVY=.f5c3703b78ae2a478ae15b247e9f855e0ce2107b.incomplete'\n",
      "Downloading 'README.md' to '/Users/edward_beck8n24/pytorch-learning-plan-1/week05/.cache/huggingface/download/Xn7B-BWUGOee2Y6hCZtEhtFu4BE=.a50b19e76f5274f9ec99f5a5d99873dca5bff25e.incomplete'\n",
      "Downloading 'generation_config.json' to '/Users/edward_beck8n24/pytorch-learning-plan-1/week05/.cache/huggingface/download/3EVKVggOldJcKSsGjSdoUCN1AyQ=.20a8a9156fc8c3f25295ca067f61fdf120d517c5.incomplete'\n",
      "Downloading 'tokenizer_config.json' to '/Users/edward_beck8n24/pytorch-learning-plan-1/week05/.cache/huggingface/download/vzaExXFZNBay89bvlQv-ZcI6BTg=.417d038a63fa3de29cfde265caedae14d1a58d92.incomplete'\n",
      "Download complete. Moving file to /Users/edward_beck8n24/pytorch-learning-plan-1/week05/.gitattributes\n",
      "Fetching 9 files:  11%|█         | 1/9 [00:02<00:17,  2.20s/it]Download complete. Moving file to /Users/edward_beck8n24/pytorch-learning-plan-1/week05/config.json\n",
      "Download complete. Moving file to /Users/edward_beck8n24/pytorch-learning-plan-1/week05/README.md\n",
      "Download complete. Moving file to /Users/edward_beck8n24/pytorch-learning-plan-1/week05/generation_config.json\n",
      "Download complete. Moving file to /Users/edward_beck8n24/pytorch-learning-plan-1/week05/tokenizer_config.json\n",
      "Downloading 'vocab.json' to '/Users/edward_beck8n24/pytorch-learning-plan-1/week05/.cache/huggingface/download/j3m-Hy6QvBddw8RXA1uSWl1AJ0c=.4783fe10ac3adce15ac8f358ef5462739852c569.incomplete'\n",
      "Download complete. Moving file to /Users/edward_beck8n24/pytorch-learning-plan-1/week05/merges.txt\n",
      "Fetching 9 files:  56%|█████▌    | 5/9 [00:04<00:03,  1.16it/s]Download complete. Moving file to /Users/edward_beck8n24/pytorch-learning-plan-1/week05/vocab.json\n"
     ]
    },
    {
     "name": "stdout",
     "output_type": "stream",
     "text": [
      "{\"timestamp\":\"2025-07-01T01:17:42.232098Z\",\"level\":\"WARN\",\"fields\":{\"message\":\"Reqwest(reqwest::Error { kind: Request, source: hyper_util::client::legacy::Error(SendRequest, hyper::Error(IncompleteMessage)) }). Retrying...\"},\"filename\":\"/Users/runner/work/xet-core/xet-core/cas_client/src/http_client.rs\",\"line_number\":242}\n",
      "{\"timestamp\":\"2025-07-01T01:17:42.232203Z\",\"level\":\"WARN\",\"fields\":{\"message\":\"Retry attempt #0. Sleeping 2.835043167s before the next attempt\"},\"filename\":\"/Users/runner/.cargo/registry/src/index.crates.io-1949cf8c6b5b557f/reqwest-retry-0.7.0/src/middleware.rs\",\"line_number\":171}\n",
      "{\"timestamp\":\"2025-07-01T01:17:44.690570Z\",\"level\":\"WARN\",\"fields\":{\"message\":\"Reqwest(reqwest::Error { kind: Request, source: hyper_util::client::legacy::Error(SendRequest, hyper::Error(IncompleteMessage)) }). Retrying...\"},\"filename\":\"/Users/runner/work/xet-core/xet-core/cas_client/src/http_client.rs\",\"line_number\":242}\n",
      "{\"timestamp\":\"2025-07-01T01:17:44.690622Z\",\"level\":\"WARN\",\"fields\":{\"message\":\"Retry attempt #0. Sleeping 254.96288ms before the next attempt\"},\"filename\":\"/Users/runner/.cargo/registry/src/index.crates.io-1949cf8c6b5b557f/reqwest-retry-0.7.0/src/middleware.rs\",\"line_number\":171}\n",
      "{\"timestamp\":\"2025-07-01T01:17:51.875562Z\",\"level\":\"WARN\",\"fields\":{\"message\":\"Reqwest(reqwest::Error { kind: Request, source: hyper_util::client::legacy::Error(SendRequest, hyper::Error(IncompleteMessage)) }). Retrying...\"},\"filename\":\"/Users/runner/work/xet-core/xet-core/cas_client/src/http_client.rs\",\"line_number\":242}\n",
      "{\"timestamp\":\"2025-07-01T01:17:51.875606Z\",\"level\":\"WARN\",\"fields\":{\"message\":\"Retry attempt #0. Sleeping 1.081589827s before the next attempt\"},\"filename\":\"/Users/runner/.cargo/registry/src/index.crates.io-1949cf8c6b5b557f/reqwest-retry-0.7.0/src/middleware.rs\",\"line_number\":171}\n",
      "{\"timestamp\":\"2025-07-01T01:17:55.757125Z\",\"level\":\"WARN\",\"fields\":{\"message\":\"Reqwest(reqwest::Error { kind: Request, source: hyper_util::client::legacy::Error(SendRequest, hyper::Error(IncompleteMessage)) }). Retrying...\"},\"filename\":\"/Users/runner/work/xet-core/xet-core/cas_client/src/http_client.rs\",\"line_number\":242}\n",
      "{\"timestamp\":\"2025-07-01T01:17:55.757201Z\",\"level\":\"WARN\",\"fields\":{\"message\":\"Retry attempt #0. Sleeping 2.492589224s before the next attempt\"},\"filename\":\"/Users/runner/.cargo/registry/src/index.crates.io-1949cf8c6b5b557f/reqwest-retry-0.7.0/src/middleware.rs\",\"line_number\":171}\n"
     ]
    },
    {
     "name": "stderr",
     "output_type": "stream",
     "text": [
      "Download complete. Moving file to /Users/edward_beck8n24/pytorch-learning-plan-1/week05/tokenizer.json\n"
     ]
    }
   ],
   "source": [
    "import os\n",
    "# 设置环境变量，此处使用 HuggingFace 镜像网站\n",
    "os.environ['HF_ENDPOINT'] = 'https://hf-mirror.com'\n",
    "# 下载模型\n",
    "os.system('huggingface-cli download --resume-download Qwen/Qwen3-0.6B --local-dir /Users/edward_beck8n24/pytorch-learning-plan-1/week05')\n"
   ]
  }
 ],
 "metadata": {
  "kernelspec": {
   "display_name": "base",
   "language": "python",
   "name": "python3"
  },
  "language_info": {
   "codemirror_mode": {
    "name": "ipython",
    "version": 3
   },
   "file_extension": ".py",
   "mimetype": "text/x-python",
   "name": "python",
   "nbconvert_exporter": "python",
   "pygments_lexer": "ipython3",
   "version": "3.11.9"
  }
 },
 "nbformat": 4,
 "nbformat_minor": 5
}
