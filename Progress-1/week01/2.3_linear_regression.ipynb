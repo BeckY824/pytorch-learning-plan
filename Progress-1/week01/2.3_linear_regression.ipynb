{
 "cells": [
  {
   "cell_type": "markdown",
   "id": "a0881db7",
   "metadata": {},
   "source": [
    "## 张量算法的基本性质"
   ]
  },
  {
   "cell_type": "code",
   "execution_count": 2,
   "id": "0f7d7f07",
   "metadata": {},
   "outputs": [
    {
     "data": {
      "text/plain": [
       "(tensor([[ 0.,  1.,  2.,  3.],\n",
       "         [ 4.,  5.,  6.,  7.],\n",
       "         [ 8.,  9., 10., 11.],\n",
       "         [12., 13., 14., 15.],\n",
       "         [16., 17., 18., 19.]]),\n",
       " tensor([[ 0.,  2.,  4.,  6.],\n",
       "         [ 8., 10., 12., 14.],\n",
       "         [16., 18., 20., 22.],\n",
       "         [24., 26., 28., 30.],\n",
       "         [32., 34., 36., 38.]]))"
      ]
     },
     "execution_count": 2,
     "metadata": {},
     "output_type": "execute_result"
    }
   ],
   "source": [
    "import torch\n",
    "A = torch.arange(20, dtype=torch.float32).reshape(5,4)\n",
    "B = A.clone() # 通过分配新内存， 将A的一个副本分配给B\n",
    "A, A+B"
   ]
  },
  {
   "cell_type": "markdown",
   "id": "c1033497",
   "metadata": {},
   "source": [
    "## 降维"
   ]
  },
  {
   "cell_type": "code",
   "execution_count": 3,
   "id": "a1fb11de",
   "metadata": {},
   "outputs": [
    {
     "data": {
      "text/plain": [
       "(tensor([0., 1., 2., 3.]), tensor(6.))"
      ]
     },
     "execution_count": 3,
     "metadata": {},
     "output_type": "execute_result"
    }
   ],
   "source": [
    "x = torch.arange(4, dtype=torch.float32)\n",
    "x, x.sum()"
   ]
  },
  {
   "cell_type": "markdown",
   "id": "63cf4ff1",
   "metadata": {},
   "source": [
    "以矩阵为例，为了通过求和所有行元素来降维（轴0），可以在调用函数时，指定axis=0。压缩行，理解为向上压缩，直至只存在一行。压缩列，理解为向左压缩，直至只存在一列。"
   ]
  },
  {
   "cell_type": "markdown",
   "id": "08a62714",
   "metadata": {},
   "source": [
    "## 非降维求和"
   ]
  },
  {
   "cell_type": "markdown",
   "id": "49b38a7f",
   "metadata": {},
   "source": [
    "保持总轴数不变会很有用。"
   ]
  },
  {
   "cell_type": "markdown",
   "id": "0b36b7f4",
   "metadata": {},
   "source": [
    "## 点积"
   ]
  },
  {
   "cell_type": "markdown",
   "id": "7ee4d7c0",
   "metadata": {},
   "source": [
    "torch.dot"
   ]
  },
  {
   "cell_type": "markdown",
   "id": "a0141b6b",
   "metadata": {},
   "source": [
    "## 矩阵乘法"
   ]
  },
  {
   "cell_type": "markdown",
   "id": "6fbcb43d",
   "metadata": {},
   "source": [
    "torch.mm(A,B)"
   ]
  },
  {
   "cell_type": "markdown",
   "id": "64e62eaf",
   "metadata": {},
   "source": [
    "## 范数"
   ]
  },
  {
   "cell_type": "markdown",
   "id": "d034387a",
   "metadata": {},
   "source": [
    "L2范数时向量的平方之和求根    \n",
    "L1范数时向量的绝对值之和"
   ]
  },
  {
   "cell_type": "markdown",
   "id": "e176167a",
   "metadata": {},
   "source": []
  }
 ],
 "metadata": {
  "kernelspec": {
   "display_name": "image",
   "language": "python",
   "name": "python3"
  },
  "language_info": {
   "codemirror_mode": {
    "name": "ipython",
    "version": 3
   },
   "file_extension": ".py",
   "mimetype": "text/x-python",
   "name": "python",
   "nbconvert_exporter": "python",
   "pygments_lexer": "ipython3",
   "version": "3.11.11"
  }
 },
 "nbformat": 4,
 "nbformat_minor": 5
}
